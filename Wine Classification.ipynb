{
 "cells": [
  {
   "cell_type": "code",
   "execution_count": 7,
   "metadata": {},
   "outputs": [],
   "source": [
    "import pandas as pd\n",
    "import numpy as np\n",
    "from sklearn.metrics import accuracy_score, confusion_matrix,classification_report\n",
    "from sklearn.model_selection import train_test_split,cross_val_score\n",
    "from sklearn.linear_model import LogisticRegression\n",
    "from sklearn.preprocessing import StandardScaler,PolynomialFeatures\n",
    "from sklearn.neighbors import KNeighborsClassifier\n",
    "import warnings\n",
    "warnings.filterwarnings('ignore')\n"
   ]
  },
  {
   "cell_type": "code",
   "execution_count": 8,
   "metadata": {},
   "outputs": [],
   "source": [
    "np.random.seed(42) #to fix the random values to be  taken in the dataset"
   ]
  },
  {
   "cell_type": "code",
   "execution_count": 2,
   "metadata": {},
   "outputs": [],
   "source": [
    "df = pd.read_csv(\"http://archive.ics.uci.edu/ml/machine-learning-databases/wine-quality/winequality-white.csv\",sep = ';')\n"
   ]
  },
  {
   "cell_type": "code",
   "execution_count": 3,
   "metadata": {},
   "outputs": [
    {
     "data": {
      "text/html": [
       "<div>\n",
       "<style scoped>\n",
       "    .dataframe tbody tr th:only-of-type {\n",
       "        vertical-align: middle;\n",
       "    }\n",
       "\n",
       "    .dataframe tbody tr th {\n",
       "        vertical-align: top;\n",
       "    }\n",
       "\n",
       "    .dataframe thead th {\n",
       "        text-align: right;\n",
       "    }\n",
       "</style>\n",
       "<table border=\"1\" class=\"dataframe\">\n",
       "  <thead>\n",
       "    <tr style=\"text-align: right;\">\n",
       "      <th></th>\n",
       "      <th>fixed acidity</th>\n",
       "      <th>volatile acidity</th>\n",
       "      <th>citric acid</th>\n",
       "      <th>residual sugar</th>\n",
       "      <th>chlorides</th>\n",
       "      <th>free sulfur dioxide</th>\n",
       "      <th>total sulfur dioxide</th>\n",
       "      <th>density</th>\n",
       "      <th>pH</th>\n",
       "      <th>sulphates</th>\n",
       "      <th>alcohol</th>\n",
       "      <th>quality</th>\n",
       "    </tr>\n",
       "  </thead>\n",
       "  <tbody>\n",
       "    <tr>\n",
       "      <th>0</th>\n",
       "      <td>7.0</td>\n",
       "      <td>0.27</td>\n",
       "      <td>0.36</td>\n",
       "      <td>20.7</td>\n",
       "      <td>0.045</td>\n",
       "      <td>45.0</td>\n",
       "      <td>170.0</td>\n",
       "      <td>1.0010</td>\n",
       "      <td>3.00</td>\n",
       "      <td>0.45</td>\n",
       "      <td>8.8</td>\n",
       "      <td>6</td>\n",
       "    </tr>\n",
       "    <tr>\n",
       "      <th>1</th>\n",
       "      <td>6.3</td>\n",
       "      <td>0.30</td>\n",
       "      <td>0.34</td>\n",
       "      <td>1.6</td>\n",
       "      <td>0.049</td>\n",
       "      <td>14.0</td>\n",
       "      <td>132.0</td>\n",
       "      <td>0.9940</td>\n",
       "      <td>3.30</td>\n",
       "      <td>0.49</td>\n",
       "      <td>9.5</td>\n",
       "      <td>6</td>\n",
       "    </tr>\n",
       "    <tr>\n",
       "      <th>2</th>\n",
       "      <td>8.1</td>\n",
       "      <td>0.28</td>\n",
       "      <td>0.40</td>\n",
       "      <td>6.9</td>\n",
       "      <td>0.050</td>\n",
       "      <td>30.0</td>\n",
       "      <td>97.0</td>\n",
       "      <td>0.9951</td>\n",
       "      <td>3.26</td>\n",
       "      <td>0.44</td>\n",
       "      <td>10.1</td>\n",
       "      <td>6</td>\n",
       "    </tr>\n",
       "    <tr>\n",
       "      <th>3</th>\n",
       "      <td>7.2</td>\n",
       "      <td>0.23</td>\n",
       "      <td>0.32</td>\n",
       "      <td>8.5</td>\n",
       "      <td>0.058</td>\n",
       "      <td>47.0</td>\n",
       "      <td>186.0</td>\n",
       "      <td>0.9956</td>\n",
       "      <td>3.19</td>\n",
       "      <td>0.40</td>\n",
       "      <td>9.9</td>\n",
       "      <td>6</td>\n",
       "    </tr>\n",
       "    <tr>\n",
       "      <th>4</th>\n",
       "      <td>7.2</td>\n",
       "      <td>0.23</td>\n",
       "      <td>0.32</td>\n",
       "      <td>8.5</td>\n",
       "      <td>0.058</td>\n",
       "      <td>47.0</td>\n",
       "      <td>186.0</td>\n",
       "      <td>0.9956</td>\n",
       "      <td>3.19</td>\n",
       "      <td>0.40</td>\n",
       "      <td>9.9</td>\n",
       "      <td>6</td>\n",
       "    </tr>\n",
       "  </tbody>\n",
       "</table>\n",
       "</div>"
      ],
      "text/plain": [
       "   fixed acidity  volatile acidity  citric acid  residual sugar  chlorides  \\\n",
       "0            7.0              0.27         0.36            20.7      0.045   \n",
       "1            6.3              0.30         0.34             1.6      0.049   \n",
       "2            8.1              0.28         0.40             6.9      0.050   \n",
       "3            7.2              0.23         0.32             8.5      0.058   \n",
       "4            7.2              0.23         0.32             8.5      0.058   \n",
       "\n",
       "   free sulfur dioxide  total sulfur dioxide  density    pH  sulphates  \\\n",
       "0                 45.0                 170.0   1.0010  3.00       0.45   \n",
       "1                 14.0                 132.0   0.9940  3.30       0.49   \n",
       "2                 30.0                  97.0   0.9951  3.26       0.44   \n",
       "3                 47.0                 186.0   0.9956  3.19       0.40   \n",
       "4                 47.0                 186.0   0.9956  3.19       0.40   \n",
       "\n",
       "   alcohol  quality  \n",
       "0      8.8        6  \n",
       "1      9.5        6  \n",
       "2     10.1        6  \n",
       "3      9.9        6  \n",
       "4      9.9        6  "
      ]
     },
     "execution_count": 3,
     "metadata": {},
     "output_type": "execute_result"
    }
   ],
   "source": [
    "df.head()"
   ]
  },
  {
   "cell_type": "code",
   "execution_count": 9,
   "metadata": {},
   "outputs": [
    {
     "data": {
      "text/plain": [
       "6    2198\n",
       "5    1457\n",
       "7     880\n",
       "8     175\n",
       "4     163\n",
       "3      20\n",
       "9       5\n",
       "Name: quality, dtype: int64"
      ]
     },
     "execution_count": 9,
     "metadata": {},
     "output_type": "execute_result"
    }
   ],
   "source": [
    "df['quality'].value_counts()"
   ]
  },
  {
   "cell_type": "code",
   "execution_count": 10,
   "metadata": {},
   "outputs": [
    {
     "data": {
      "text/plain": [
       "fixed acidity           0\n",
       "volatile acidity        0\n",
       "citric acid             0\n",
       "residual sugar          0\n",
       "chlorides               0\n",
       "free sulfur dioxide     0\n",
       "total sulfur dioxide    0\n",
       "density                 0\n",
       "pH                      0\n",
       "sulphates               0\n",
       "alcohol                 0\n",
       "quality                 0\n",
       "dtype: int64"
      ]
     },
     "execution_count": 10,
     "metadata": {},
     "output_type": "execute_result"
    }
   ],
   "source": [
    "df.isna().sum()"
   ]
  },
  {
   "cell_type": "code",
   "execution_count": 13,
   "metadata": {},
   "outputs": [],
   "source": [
    "y=df.pop('quality')"
   ]
  },
  {
   "cell_type": "code",
   "execution_count": 22,
   "metadata": {},
   "outputs": [],
   "source": [
    "train_x,test_x,train_y,test_y= train_test_split(df,y,test_size=0.2)"
   ]
  },
  {
   "cell_type": "code",
   "execution_count": 26,
   "metadata": {},
   "outputs": [],
   "source": [
    "def model_fit(alg, train_x, test_x, train_y, test_y, if_cv = True, cv_folds = 5):\n",
    "    alg.fit(train_x, train_y)\n",
    "    \n",
    "    #Cross-val\n",
    "    if if_cv:\n",
    "        cv_score = cross_val_score(alg, train_x, train_y, cv = cv_folds, scoring = 'f1_macro')\n",
    "    \n",
    "    prediction = alg.predict(test_x)\n",
    "    \n",
    "    if if_cv:\n",
    "        print('CV report: Mean - %.3g | Std - %.3g | Min - %.3g, Max- %.3g' %(np.mean(cv_score),\n",
    "                                                                              np.std(cv_score), \n",
    "                                                                              np.min(cv_score), \n",
    "                                                                              np.max(cv_score)))\n",
    "    print(\"Accuracy: \", accuracy_score(test_y, prediction))\n",
    "    print('-'*100)\n",
    "    \n",
    "    cm = pd.DataFrame(confusion_matrix(test_y, prediction))\n",
    "    print(cm)\n",
    "\n",
    "    "
   ]
  },
  {
   "cell_type": "code",
   "execution_count": 27,
   "metadata": {},
   "outputs": [],
   "source": [
    "lm=LogisticRegression()"
   ]
  },
  {
   "cell_type": "code",
   "execution_count": 28,
   "metadata": {},
   "outputs": [
    {
     "name": "stdout",
     "output_type": "stream",
     "text": [
      "CV report: Mean - 0.167 | Std - 0.0287 | Min - 0.145, Max- 0.224\n",
      "Accuracy:  0.45714285714285713\n",
      "----------------------------------------------------------------------------------------------------\n",
      "   0  1   2    3  4  5\n",
      "0  0  0   3    2  0  0\n",
      "1  0  0   8   22  0  0\n",
      "2  0  0  81  204  0  0\n",
      "3  0  0  72  362  1  0\n",
      "4  0  0  13  157  5  0\n",
      "5  0  0   5   45  0  0\n"
     ]
    }
   ],
   "source": [
    "model_fit(lm,train_x, test_x, train_y, test_y)"
   ]
  },
  {
   "cell_type": "code",
   "execution_count": 30,
   "metadata": {},
   "outputs": [],
   "source": [
    "def KNN_predicts(train_x, test_x, train_y, test_y, scaler, neighbours, \n",
    "                 metric = 'manhattan', \n",
    "                 weights = 'uniform'):\n",
    "    \n",
    "    train_scaled = scaler.fit_transform(train_x)\n",
    "    test_scaled = scaler.transform(test_x)\n",
    "    \n",
    "    KNN = KNeighborsClassifier(n_neighbors= neighbours, metric = metric, \n",
    "                               weights = weights, n_jobs = -1)\n",
    "    KNN.fit(train_scaled, train_y)\n",
    "    prediction = KNN.predict(test_scaled)\n",
    "    \n",
    "    print('Accuracy: ', accuracy_score(test_y, prediction))\n",
    "    print('-'*100)\n",
    "    return KNN\n"
   ]
  },
  {
   "cell_type": "code",
   "execution_count": 32,
   "metadata": {},
   "outputs": [
    {
     "name": "stdout",
     "output_type": "stream",
     "text": [
      "Accuracy:  0.6489795918367347\n",
      "----------------------------------------------------------------------------------------------------\n"
     ]
    },
    {
     "data": {
      "text/plain": [
       "KNeighborsClassifier(metric='manhattan', n_jobs=-1, n_neighbors=1)"
      ]
     },
     "execution_count": 32,
     "metadata": {},
     "output_type": "execute_result"
    }
   ],
   "source": [
    "KNN_predicts(train_x, test_x, train_y, test_y,StandardScaler(),1)"
   ]
  },
  {
   "cell_type": "code",
   "execution_count": 34,
   "metadata": {},
   "outputs": [
    {
     "name": "stdout",
     "output_type": "stream",
     "text": [
      "Accuracy score on KNN using n_neighbors = 1: Accuracy:  0.6489795918367347\n",
      "----------------------------------------------------------------------------------------------------\n",
      "Accuracy score on KNN using n_neighbors = 2: Accuracy:  0.5816326530612245\n",
      "----------------------------------------------------------------------------------------------------\n",
      "Accuracy score on KNN using n_neighbors = 3: Accuracy:  0.5653061224489796\n",
      "----------------------------------------------------------------------------------------------------\n",
      "Accuracy score on KNN using n_neighbors = 4: Accuracy:  0.5673469387755102\n",
      "----------------------------------------------------------------------------------------------------\n",
      "Accuracy score on KNN using n_neighbors = 5: Accuracy:  0.5581632653061225\n",
      "----------------------------------------------------------------------------------------------------\n",
      "Accuracy score on KNN using n_neighbors = 6: Accuracy:  0.5387755102040817\n",
      "----------------------------------------------------------------------------------------------------\n",
      "Accuracy score on KNN using n_neighbors = 7: Accuracy:  0.5448979591836735\n",
      "----------------------------------------------------------------------------------------------------\n",
      "Accuracy score on KNN using n_neighbors = 8: Accuracy:  0.5316326530612245\n",
      "----------------------------------------------------------------------------------------------------\n",
      "Accuracy score on KNN using n_neighbors = 9: Accuracy:  0.5489795918367347\n",
      "----------------------------------------------------------------------------------------------------\n",
      "Accuracy score on KNN using n_neighbors = 10: Accuracy:  0.55\n",
      "----------------------------------------------------------------------------------------------------\n"
     ]
    }
   ],
   "source": [
    "for k in range(1, 11):\n",
    "    print('Accuracy score on KNN using n_neighbors = {0}:'.format(k), end = ' ')\n",
    "    KNN_predicts(train_x, test_x, train_y, test_y, StandardScaler(), k)\n"
   ]
  },
  {
   "cell_type": "code",
   "execution_count": 38,
   "metadata": {},
   "outputs": [
    {
     "name": "stdout",
     "output_type": "stream",
     "text": [
      "Accuracy score on KNN using euclidean metric and 5 neighbors: Accuracy:  0.5408163265306123\n",
      "----------------------------------------------------------------------------------------------------\n",
      "Accuracy score on KNN using minkowski metric and 5 neighbors: Accuracy:  0.5408163265306123\n",
      "----------------------------------------------------------------------------------------------------\n",
      "Accuracy score on KNN using manhattan metric and 5 neighbors: Accuracy:  0.5581632653061225\n",
      "----------------------------------------------------------------------------------------------------\n",
      "Accuracy score on KNN using chebyshev metric and 5 neighbors: Accuracy:  0.5336734693877551\n",
      "----------------------------------------------------------------------------------------------------\n"
     ]
    }
   ],
   "source": [
    "k=5\n",
    "for metric in ['euclidean','minkowski','manhattan','chebyshev']:\n",
    "    print('Accuracy score on KNN using {} metric and {} neighbors:'.format(metric,k), end = ' ')\n",
    "    KNN_predicts(train_x, test_x, train_y, test_y, StandardScaler(), k,metric)\n"
   ]
  },
  {
   "cell_type": "code",
   "execution_count": 40,
   "metadata": {},
   "outputs": [
    {
     "name": "stdout",
     "output_type": "stream",
     "text": [
      "Accuracy score on KNN using  neighbors uniform weights:  Accuracy:  0.5581632653061225\n",
      "----------------------------------------------------------------------------------------------------\n",
      "Accuracy score on KNN using  neighbors distance weights:  Accuracy:  0.6581632653061225\n",
      "----------------------------------------------------------------------------------------------------\n"
     ]
    }
   ],
   "source": [
    "for weight in ['uniform','distance']:\n",
    "    print('Accuracy score on KNN using  neighbors {} weights: '.format(weight), end = ' ')\n",
    "    KNN_predicts(train_x, test_x, train_y, test_y, StandardScaler(), 5,'manhattan',weights=weight)"
   ]
  },
  {
   "cell_type": "code",
   "execution_count": null,
   "metadata": {},
   "outputs": [],
   "source": []
  }
 ],
 "metadata": {
  "kernelspec": {
   "display_name": "Python 3",
   "language": "python",
   "name": "python3"
  },
  "language_info": {
   "codemirror_mode": {
    "name": "ipython",
    "version": 3
   },
   "file_extension": ".py",
   "mimetype": "text/x-python",
   "name": "python",
   "nbconvert_exporter": "python",
   "pygments_lexer": "ipython3",
   "version": "3.8.3"
  }
 },
 "nbformat": 4,
 "nbformat_minor": 4
}
